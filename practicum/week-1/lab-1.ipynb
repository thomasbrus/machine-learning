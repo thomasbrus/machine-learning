{
 "cells": [
  {
   "cell_type": "markdown",
   "metadata": {},
   "source": [
    "# Introduction\n",
    "\n",
    "This year, we will run the practical exercises in Python, a powerful interpreted language. Python is being increasingly used in machine learning research, as it is fast, portable, has a clean syntax and sports a large collection of scientific software libraries. \n",
    "\n",
    "In order to deal with the more advanced mathematics that we deal with in this course, we make use of a few python libraries:\n",
    "\n",
    "* numpy, which allows us to work with vectors and matrices\n",
    "* scipy, which gives us access to scientific algorithms\n",
    "* matplotlib, which allows us to plot our results\n",
    "\n",
    "For this introduction, we will run our practical exercises within a \"*notebook*\": an interactive web page that integrates both code and text, allowing us to combine the code with documentation. In this case, you will edit this notebook to write your code and provide answers to the questions. Much of the documentation for python and its libraries can be found online. In particular, you should be able to do the exercises described in this document with the information available at http://scipy.org/docs.html\n",
    "\n",
    "Before we start, let's load the libraries that we will need for this exercise."
   ]
  },
  {
   "cell_type": "code",
   "execution_count": 2,
   "metadata": {
    "collapsed": false
   },
   "outputs": [],
   "source": [
    "# The following line makes sure that when we plot stuff it shows up in the notebook\n",
    "%matplotlib inline \n",
    "\n",
    "#import scipy.io as sio          # Allow for the import of Matlab files\n",
    "import scipy.stats as stats     # Statistics module\n",
    "import numpy as np              # Module for, among others, matrix operations\n",
    "import matplotlib.pyplot as plt # Plotting\n",
    "       \n"
   ]
  },
  {
   "cell_type": "markdown",
   "metadata": {},
   "source": [
    "# Basic stuff\n",
    "\n",
    "Let's start by playing around a little with some data. Start by loading the variables saved in the file \"*data.npz*\". This can be done using the \"**numpy.load**\" command. This file contains multible variables, which can be accessed as elements of a dictionary structure. In the following, we will refer to these variables by their key in the file, so for example, $v$ refers to the vector that you can access as *data['v']* if you called your dictionary \"data\".\n",
    "\n",
    "Answer the following questions:\n",
    "\n",
    "1. What is the order of $v$?\n",
    "1. Compute the 2-norm $|v|^2$ of $v$. Notice that v is relatively large, which can lead to out-of-memory errors if you're not careful. Check out the *numpy.matrix.dot()* function.\n",
    "1. use *%timeit* to check how long the computation takes, and report the results\n",
    "1. How many elements of v are larger than 1? How many are larger than $2, 3,\\dots,5$?"
   ]
  },
  {
   "cell_type": "code",
   "execution_count": 3,
   "metadata": {
    "collapsed": false
   },
   "outputs": [
    {
     "name": "stdout",
     "output_type": "stream",
     "text": [
      "The order of v (200000, 1)\n",
      "The two-norm of v [[ 446.56104741]]\n",
      "Timing inner product\n",
      "CPU times: user 84 µs, sys: 1 µs, total: 85 µs\n",
      "Wall time: 87 µs\n",
      "Number of elements > 1 : 31834\n",
      "Number of elements > 2 : 4472\n",
      "Number of elements > 3 : 262\n",
      "Number of elements > 4 : 9\n",
      "Number of elements > 5 : 0\n",
      "CPU times: user 1.11 s, sys: 6.32 ms, total: 1.12 s\n",
      "Wall time: 1.12 s\n"
     ]
    }
   ],
   "source": [
    "d = np.load(\"data.npz\")\n",
    "\n",
    "v = d['v']\n",
    "\n",
    "print \"The order of v\", v.shape\n",
    "print \"The two-norm of v\", np.sqrt(v.T.dot(v))\n",
    "print \"Timing inner product\"\n",
    "%time v.T.dot(v)\n",
    "\n",
    "%time for t in [1,2,3,4,5]: print \"Number of elements >\",t,\":\",len([x for x in v if x>t])\n",
    "\n",
    "\n"
   ]
  },
  {
   "cell_type": "markdown",
   "metadata": {},
   "source": [
    "## Plotting\n",
    "\n",
    "Plot, in the range $[-5\\dots 5]$, the Gaussiab PDFs with parameters $(\\mu=0,\\sigma=1), (\\mu=0, \\sigma=2), (\\mu=0, \\sigma=3)$. Use the functions *plt.plot*, *stats.norm.pdf* and *plt.legend*\n"
   ]
  },
  {
   "cell_type": "code",
   "execution_count": 26,
   "metadata": {
    "collapsed": false
   },
   "outputs": [
    {
     "data": {
      "image/png": "[encoded data removed]",
      "text/plain": [
       "<matplotlib.figure.Figure at 0x111272f50>"
      ]
     },
     "metadata": {},
     "output_type": "display_data"
    }
   ],
   "source": [
    "x = np.arange(-5., 5., 0.2)\n",
    "\n",
    "plt.plot(x, stats.norm.pdf(x, 0, 1), label='mu=0,sdv=1')\n",
    "plt.plot(x, stats.norm.pdf(x, 0, 2), label='mu=0,sdv=2')\n",
    "plt.plot(x, stats.norm.pdf(x, 0, 3), label='mu=0,sdv=3')\n",
    "\n",
    "plt.legend()\n",
    "\n",
    "plt.show()"
   ]
  },
  {
   "cell_type": "markdown",
   "metadata": {},
   "source": [
    "## Playing with matrices and Python\n",
    "\n",
    "Plot a normalised histogram of the elements in vector v2 using 20 bins, and superimpose a plot, in the range $[−5, \\dots , 5]$ of the Gaussian distribution with the mean and variance of the data. Use the built-in functions to compute these. In particular, use **np.mean** and **np.cov** to fit the parameters to the data."
   ]
  },
  {
   "cell_type": "code",
   "execution_count": null,
   "metadata": {
    "collapsed": false
   },
   "outputs": [],
   "source": [
    "\n"
   ]
  },
  {
   "cell_type": "markdown",
   "metadata": {},
   "source": [
    "Get information on the *np.cov* function using the **help** function. This function does not provide you with the maximum likelihood estimators (MLE) of the parameters. For the Gaussian function, the MLE are \n",
    "\n",
    "$$\\boldsymbol{\\mu} = \\frac{\\sum_{n=1}^N \\mathbf{x}_n}{N}$$ \n",
    "\n",
    "and\n",
    "\n",
    "$$\\boldsymbol{\\Sigma} = \\frac{\\sum_{n=1}^N (\\mathbf{x}_n-\\boldsymbol{\\mu})^2}{N}$$\n",
    "\n",
    "Compute these parameters by hand and compare the values you obtain to those returned by the built-in function. How does your implementation compare in terms of execution speed?\n",
    "    "
   ]
  },
  {
   "cell_type": "code",
   "execution_count": null,
   "metadata": {
    "collapsed": false
   },
   "outputs": [],
   "source": []
  },
  {
   "cell_type": "markdown",
   "metadata": {},
   "source": [
    "# More advanced things...\n",
    "\n",
    "Load the dataset in **data-2class.npz**. This file contains a set of 2-dimensional points $d$, and a corresponding set of labels $l$\n",
    "\n",
    "1. Create a 2D scatterplot of $d$, using red for the elements with corresponding label 0, and blue for $l_i=1$\n",
    "1. Draw a straight line separating the two classes\n",
    "1. Fit two 2D Gaussian distributions, to the points with label $l_i=0$ and $l_i=1$. \n",
    "1. Create a 3D plot with axes $x_0$, $x_1$ and $p$. Create a scatterplot of the data in the $p=0$ plane. Then plot a wireframe plot showing both Gaussians, where $p$ is function of $x_0,x_1$\n",
    "\n"
   ]
  },
  {
   "cell_type": "code",
   "execution_count": 3,
   "metadata": {
    "collapsed": false
   },
   "outputs": [
    {
     "data": {
      "text/plain": [
       "['d', 'l']"
      ]
     },
     "execution_count": 3,
     "metadata": {},
     "output_type": "execute_result"
    }
   ],
   "source": [
    "d = np.load(\"data-2class.npz\")\n",
    "d.keys()"
   ]
  }
 ],
 "metadata": {
  "kernelspec": {
   "display_name": "Python 2",
   "language": "python",
   "name": "python2"
  },
  "language_info": {
   "codemirror_mode": {
    "name": "ipython",
    "version": 2
   },
   "file_extension": ".py",
   "mimetype": "text/x-python",
   "name": "python",
   "nbconvert_exporter": "python",
   "pygments_lexer": "ipython2",
   "version": "2.7.10"
  }
 },
 "nbformat": 4,
 "nbformat_minor": 0
}
