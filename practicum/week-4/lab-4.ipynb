{
 "cells": [
  {
   "cell_type": "markdown",
   "metadata": {},
   "source": [
    "| | |\n",
    "|---|---|\n",
    "| **Name** | Jan Ubbo van Baardewijk & Thomas Brus |\n",
    "| **Group** | ML_HMI_01 |\n"
   ]
  },
  {
   "cell_type": "markdown",
   "metadata": {},
   "source": [
    "$\n",
    "\\newcommand{\\x}{\\mathbf{x}}\n",
    "\\newcommand{\\w}{\\mathbf{w}}\n",
    "\\newcommand{\\z}{\\mathbf{z}}\n",
    "\\newcommand{\\wx}{\\w^\\top\\x}\n",
    "\\newcommand{\\dataset}{\\mathbf{X}}\n",
    "\\newcommand{\\tset}{t\\negthickspace t}\n",
    "$\n",
    "\n",
    "# Week 4: Neural networks\n",
    "\n",
    "The basic unit of a multi-layer perceptron (MLP) is the neuron, which is a computational unit that computes a weighted sum of its inputs $\\wx$ and pushes this through a non-linear activation function. Important is that this activation should be differentiable, as we will train the weights of the network by gradient descent. This requires that we should be able to compute the gradient of an error function with respect to the weights. \n",
    "\n",
    "In a sense, this whole lab is about taking derivatives and applying the chain rule of derivation. As a reminder, the rule is that the derivative of a function $f$ applied to the result of a function $g$ $f(g(x))$ can be decomposed as:\n",
    "$$\n",
    "\\frac{\\partial}{\\partial x} f(g(x)) = \\frac{\\partial f(g(x))}{\\partial g(x)} \\, \\frac{\\partial g(x)}{\\partial x} \n",
    "$$\n"
   ]
  },
  {
   "cell_type": "code",
   "execution_count": 1,
   "metadata": {
    "collapsed": false
   },
   "outputs": [],
   "source": [
    "%matplotlib inline\n",
    "import numpy as np\n",
    "import matplotlib.pyplot as plt\n",
    "import time\n",
    "import copy\n",
    "\n",
    "maxit=100\n",
    "def gradDesc(w, errorfn, gradfn,  eta=1e-3, verbose=True):\n",
    "    err = errorfn(w)             # Compute the error function\n",
    "    errs = np.zeros(maxit)       # Keep track of the error function\n",
    "    ts = np.zeros(maxit)         # Keep track of time stamps\n",
    "    start = time.time()\n",
    "\n",
    "    newError = errorfn(w) + 1.\n",
    "    for n in xrange(maxit):\n",
    "        grad = gradfn(w)\n",
    "        if verbose:\n",
    "            print \"##\", n, \"err:\", newError, \"eta:\", eta, \"w:\", w\n",
    "            print \"  Gradient:\", grad\n",
    "            # print \"  FD grad: \", gradfd(w,errorfn)\n",
    "        pw = copy.copy(w)\n",
    "        w -= grad * eta     # Update the weights\n",
    "        \n",
    "        pastError = newError\n",
    "        newError = errorfn(w)\n",
    "        while eta > 0. and pastError - newError < 0: # If the error increases, eta is too large\n",
    "            eta /= 2.0                                # halve it, and\n",
    "            w = pw - eta * grad                      # try again from the original value of the weights\n",
    "            newError = errorfn(w)\n",
    "        else:                                        # If the error goes down,\n",
    "            eta *= 1.2                               # try to increase eta a little, to speed up things.\n",
    "                \n",
    "        if pastError-newError < 1e-5:                # If we couldn't decrease the error anymore, \n",
    "            return w, errs[:n], ts[:n]               # just give up\n",
    " \n",
    "        errs[n] = newError                           # Keep track of how the errors evolved\n",
    "        ts[n] = time.time()-start\n",
    "\n",
    "    return w, errs, ts\n"
   ]
  },
  {
   "cell_type": "markdown",
   "metadata": {},
   "source": [
    "## Neuron definition\n",
    "\n",
    "In this case, let's set up our network to have the sigmoidal activation function that we've seen before in logistic regression, \n",
    "$$\n",
    "\\sigma(a) = \\frac{1}{1+e^{-a}}\\ ,\n",
    "$$ \n",
    "so that the activation $z_i$ of neuron $i$ is given by\n",
    "$$\n",
    "z_i = \\sigma(\\w_i^\\top\\x_i) \\ ,\n",
    "$$\n",
    "where $\\x_i$ is the input to neuron $i$. Other activation functions are possibble, such as a linear function ($z=\\wx$) or a hyperbolic tangend ($z=\\tanh(\\wx)$). Let's consider a network of a single neuron, then the output of our network $y(\\w,\\x) = \\sigma(\\wx)$\n",
    "\n",
    "## Training\n",
    "\n",
    "To train a single neuron, we have a set of datapoints $\\dataset = \\{ \\x_1\\dots \\x_N\\}$ and corresponding targets $\\tset = \\{ t_1 \\dots t_N \\}$. We use this dataset to find optimal weights, and we define optimality on terms of an error function. Let's define our error function as a sum of squared errors:\n",
    "$$\n",
    "E(\\w) = \\tfrac{1}{2} \\sum_{n=1}^N (y(\\w,\\x_n) - t_n)^2\n",
    "$$\n",
    "\n",
    "**Question [5 credits]**: Notice how, although our single neuron is very similar to the logistic regression we saw in previous weeks, our error function is now quite different. What is now the error for our set $\\dataset, \\tset$? Write it out algebraically"
   ]
  },
  {
   "cell_type": "markdown",
   "metadata": {},
   "source": [
    "$$\n",
    "E(\\w) = \\tfrac{1}{2} \\sum_{n=1}^N (\\sigma(\\wx_n) - t_n)^2\n",
    "$$"
   ]
  },
  {
   "cell_type": "markdown",
   "metadata": {},
   "source": [
    "**Question [5 credits]** What is the gradient of this error with respects to the weights of the neuron $\\w$? Be careful, this is not the same as what we saw in the lecture, where the output neuron had a linear activation function."
   ]
  },
  {
   "cell_type": "markdown",
   "metadata": {},
   "source": [
    "*Answer to Q2*\n",
    "\n",
    "$$\n",
    "\\frac{\\partial E}{\\partial w_{ij}} = \\frac{\\partial E}{\\partial z_j} \\frac{\\partial z_j}{\\partial\\mathrm{a_j}} \\frac{\\partial \\mathrm{a_j}}{\\partial w_{ij}}\n",
    "$$\n",
    "\n",
    "$$\n",
    "\\frac{\\partial \\mathrm{a_j}}{\\partial w_{ij}} = \\frac{\\partial}{\\partial w_{ij}}\\left(\\sum_{k=1}^{n}w_{kj}x_k\\right) = x_i\n",
    "$$\n",
    "\n",
    "$$\n",
    "\\frac{\\partial z_j}{\\partial\\mathrm{a_j}} = \\frac {\\partial}{\\partial \\mathrm{a_j}}\\sigma(\\mathrm{a_j}) = \\sigma(\\mathrm{a_j})(1-\\sigma(\\mathrm{a_j}))\n",
    "$$\n",
    "\n",
    "$$\n",
    "\\frac{\\partial E}{\\partial z_j} = \\frac{\\partial E}{\\partial y} = \\frac{\\partial}{\\partial y} \\frac{1}{2}(t - y)^2 = y - t\n",
    "$$\n",
    "\n",
    "$$\n",
    "\\frac{\\partial E}{\\partial w_{ij}} = (y - t) \\sigma(\\mathrm{a_j})(1-\\sigma(\\mathrm{a_j})) x_i = (y - t) z_j (1 - z_j)) x_i = (y - t) y (1 - y)) x_i\n",
    "$$"
   ]
  },
  {
   "cell_type": "markdown",
   "metadata": {},
   "source": [
    "**Question [10 credits]** If now we had a neural network with two neurons in a hidden layer, \n",
    "* what would be the error function, analytically?\n",
    "\n",
    "$$\n",
    "E(\\w) = \\tfrac{1}{2} \\sum_{n=1}^N (y(\\w,\\x_n)- t_n)^2\n",
    "$$\n",
    "\n",
    "where\n",
    "$\n",
    "y(\\w,\\x_n) = \\sigma( \\sum_{j=1}^2 w^{(2)}_{1j} \\sigma( \\sum_{i=1}^D w^{(1)}_{ji} x_i + w^{(1)}_{j0}) + w^{(2)}_{10})\n",
    "$\n",
    "\n",
    "* What is the derivative of that error with respect to the weights of the first and second layer?\n",
    "\n",
    "$$\n",
    "\\frac{\\partial E_n}{\\partial w_{ji}} = \\delta_j z_i \\tag*{(5.53)}\n",
    "$$\n",
    "\n",
    "$$\n",
    "\\delta_j = h'(a_j) \\sum_{k} \\w_{kj} \\delta_k \\tag*{(5.56)}\n",
    "$$\n",
    "\n",
    "$$\n",
    "\\delta_j = \\sigma(\\mathrm{a_j})(1-\\sigma(\\mathrm{a_j})) \\sum_{k} \\w_{kj} \\delta_k\n",
    "$$\n",
    "\n",
    "$$\n",
    "\\delta_k = y_k - t_k \\tag*{(5.54)}\n",
    "$$\n",
    "\n",
    "$$\n",
    "\\delta_j = \\sigma(\\mathrm{a_j})(1-\\sigma(\\mathrm{a_j})) \\sum_{k} \\w_{kj} (y_k - t_k)\n",
    "$$\n",
    "\n",
    "$$\n",
    "\\frac{\\partial E_n}{\\partial w_{ji}} = \\sigma(\\mathrm{a_j})(1-\\sigma(\\mathrm{a_j})) \\sum_{k} \\w_{kj} (y_k - t_k) z_i\n",
    "$$\n",
    "\n",
    "$$\n",
    "\\frac{\\partial E_n}{\\partial w_{ji}} = y(1-y) \\sum_{k} \\w_{kj} (y_k - t_k) z_i\n",
    "$$\n",
    "\n",
    "* How do your equations correspond to the quantities computed in backpropagation?\n",
    "\n",
    "..?"
   ]
  },
  {
   "cell_type": "markdown",
   "metadata": {},
   "source": [
    "*Answer to Q3*\n",
    "\n",
    "(see above)"
   ]
  },
  {
   "cell_type": "markdown",
   "metadata": {},
   "source": [
    "**Question [10 credits]** Implement the following python functions: \n",
    "\n",
    "* `error(outputs, targets)`, which implements the sum-squared error on our dataset, and a function \n",
    "* `gradError(outputs,targets)`, which computes the gradient of that error with respect to its input variable `outputs`\n",
    "* `neuron(weights, inputs)`, wich implements a neuron with sigmoidal activation function, weights $\\w$ and inputs $\\x$. Decide how you deal with the bias (separately, or by augmenting the input data)\n",
    "* `gradNeuron(weights, inputs)`, which implements the gradient of the neuron's output with respect to the neuron's weights."
   ]
  },
  {
   "cell_type": "code",
   "execution_count": 2,
   "metadata": {
    "collapsed": true
   },
   "outputs": [],
   "source": [
    "maxexp = 40\n",
    "\n",
    "def sigma(a):\n",
    "    '''Logistic function, avoiding warnings of numerical overflows'''\n",
    "    if a > maxexp:\n",
    "        return 1.\n",
    "    if a <- maxexp:\n",
    "        return 0.\n",
    "    return 1. / (1. + np.exp(-a))"
   ]
  },
  {
   "cell_type": "code",
   "execution_count": 56,
   "metadata": {
    "collapsed": false
   },
   "outputs": [
    {
     "name": "stdout",
     "output_type": "stream",
     "text": [
      "error(outputs, targets) =  0.0\n",
      "gradError(outputs, targets) =  0.0\n",
      "neuron(weights, inputs) =  0.425557483188\n",
      "gradNeuron(weights, inputs) =  0.244458311691\n"
     ]
    }
   ],
   "source": [
    "# Answer to Q4\n",
    "\n",
    "def error(outputs, targets):\n",
    "    return 0.5 * sum([(o - t)**2 for o, t in zip(outputs, targets)])\n",
    "\n",
    "print \"error(outputs, targets) = \", error(outputs, targets)\n",
    "\n",
    "def gradError(outputs, targets):\n",
    "    return sum([(o - t) for o, t in zip(outputs, targets)])\n",
    "\n",
    "print \"gradError(outputs, targets) = \", gradError(outputs, targets)\n",
    "\n",
    "def neuron(weights, inputs, activationFn=sigma):\n",
    "    bias, weights = weights[0], weights[1:]\n",
    "    return activationFn(bias + sum([w * x for w, x in zip(weights, inputs)]))\n",
    "\n",
    "print \"neuron(weights, inputs) = \", neuron(weights, inputs)\n",
    "\n",
    "def gradNeuron(weights, inputs):\n",
    "    return neuron(weights, inputs) * (1 - neuron(weights, inputs))\n",
    "\n",
    "print \"gradNeuron(weights, inputs) = \", gradNeuron(weights, inputs)"
   ]
  },
  {
   "cell_type": "markdown",
   "metadata": {},
   "source": [
    "** Question [10 credits]** Verify using finite differences that the gradients you implemented for the above functions is actually correct."
   ]
  },
  {
   "cell_type": "code",
   "execution_count": 25,
   "metadata": {
    "collapsed": false
   },
   "outputs": [
    {
     "name": "stdout",
     "output_type": "stream",
     "text": [
      "Estimated gradient 0.65\n",
      "Actual gradient 0.6\n",
      "Estimated gradient 0.249947929684\n",
      "Actual gradient 0.25\n"
     ]
    }
   ],
   "source": [
    "## Answer Q5\n",
    "\n",
    "targets = [0, 1]\n",
    "\n",
    "delta = 0.05\n",
    "outputs, outputs_delta = [0.8, 0.8], [0.8 + delta, 0.8 + delta]\n",
    "\n",
    "estimated_gradient = (error(outputs_delta, targets) - error(outputs, targets)) / delta\n",
    "actual_gradient = gradError(outputs, targets)\n",
    "\n",
    "print \"Estimated gradient\", estimated_gradient\n",
    "print \"Actual gradient\", actual_gradient\n",
    "\n",
    "inputs = [1, 0]\n",
    "\n",
    "delta = 0.05\n",
    "weights, weights_delta = [-0.5, 0.5, -0.5], [-0.5, 0.5 + delta, -0.5 + delta]\n",
    "\n",
    "estimated_gradient = (neuron(weights_delta, inputs) - neuron(weights, inputs)) / delta\n",
    "actual_gradient = gradNeuron(weights, inputs)\n",
    "\n",
    "print \"Estimated gradient\", estimated_gradient\n",
    "print \"Actual gradient\", actual_gradient"
   ]
  },
  {
   "cell_type": "markdown",
   "metadata": {},
   "source": [
    "### Training a single neuron\n",
    "\n",
    "We now have the code to implement gradient descent on a single neuron. We simply need to apply the chain rule of derivation to get the complete gradient.\n",
    "** Question [10 marks] ** \n",
    "Implement the error function and the gradient of the error function with respect to the weights. Then use last week's code to perform gradient descent on the data provided. Plot the evolution of the error in one plot, and the function that the neuron implements overlayed with the training data (in another plot)\n"
   ]
  },
  {
   "cell_type": "code",
   "execution_count": 35,
   "metadata": {
    "collapsed": false
   },
   "outputs": [],
   "source": [
    "data = np.load(\"curve.npz\")\n",
    "train = np.array([data['train'][:,0]]).T\n",
    "traint = data['train'][:,1]"
   ]
  },
  {
   "cell_type": "code",
   "execution_count": 93,
   "metadata": {
    "collapsed": false
   },
   "outputs": [
    {
     "data": {
      "image/png": "[encoded data removed]",
      "text/plain": [
       "<matplotlib.figure.Figure at 0x10a8a17d0>"
      ]
     },
     "metadata": {},
     "output_type": "display_data"
    },
    {
     "data": {
      "image/png": "[encoded data removed]",
      "text/plain": [
       "<matplotlib.figure.Figure at 0x10a9bf6d0>"
      ]
     },
     "metadata": {},
     "output_type": "display_data"
    }
   ],
   "source": [
    "# Answer\n",
    "\n",
    "def errorFn(weights):\n",
    "    outputs = [neuron(weights, inputs) for inputs in train]\n",
    "    return error(outputs, traint)\n",
    "\n",
    "def gradErrorFn(weights):\n",
    "    outputs = [neuron(weights, inputs) for inputs in train]\n",
    "    return gradError(outputs, traint)\n",
    "\n",
    "weights, errors, timestamps = gradDesc([0, 0], errorFn, gradErrorFn,  eta=1e-3, verbose=False)\n",
    "\n",
    "plt.plot(timestamps, errors, 'blue', label='error')\n",
    "plt.legend()\n",
    "plt.show()\n",
    "\n",
    "colours = [['b', 'r'][int(x)] for x in np.nditer(traint)] \n",
    "\n",
    "plt.scatter(train, traint, 20, colours)\n",
    "\n",
    "xs = np.arange(-0.25, 1.25, 0.05)\n",
    "ys = [neuron(weights, [x]) for x in xs]\n",
    "\n",
    "plt.plot(xs, ys, 'blue', label='error')\n",
    "\n",
    "plt.show()"
   ]
  },
  {
   "cell_type": "markdown",
   "metadata": {
    "collapsed": true
   },
   "source": [
    "## Defining and training a network\n",
    "\n",
    "We define a feed-forward neural network using the following information:\n",
    "1. The number of layers in the network\n",
    "1. The number of nodes in each layer\n",
    "1. The activation function used in each layer (notice that all nodes in a layer use the same activation function)\n",
    "\n",
    "The important thing to notice in such a network, is that the input of the nodes in layer $n$ are the outputs of the nodes in layer $n-1$, so that we have a chaining of functions and the chain rule of derivatives applies directly. We can, therefore, apply the chain rule mechanically and compute the gradient using a combination of the forward-propagated inputs and backward-propagated errors.\n",
    "\n",
    "The code below implements a neural network with arbitrary numbers of hidden nodes, arbitrary numbers of hidden layers, and arbitrary activation functions. Do look at the code and make sure you understand how it works, and how to use it. To use it, activation functions need to be defined. The following cell provides you with two examples. "
   ]
  },
  {
   "cell_type": "code",
   "execution_count": 7,
   "metadata": {
    "collapsed": true
   },
   "outputs": [],
   "source": [
    "# This code is given\n",
    "# The following functions are activation functions. For efficiency, they combine the computation of \n",
    "# the activation function itself and its gradient wrt its input values, as both often rely on computing \n",
    "# the same intermediate quantities\n",
    "\n",
    "def ssegf(y,t):\n",
    "    '''Error and gradient function for sum-of-squares'''\n",
    "    return .5*(y-t)**2, (y-t)\n",
    "\n",
    "def linegf(a):\n",
    "    '''Error and gradient function for linear activation'''\n",
    "    return a, np.ones(a.shape)"
   ]
  },
  {
   "cell_type": "markdown",
   "metadata": {},
   "source": [
    "**Question [10 credits]**: Implement the logistic (sigmoidal) and the hyperbolic tangent \"Error and Gradient\" activation functions."
   ]
  },
  {
   "cell_type": "code",
   "execution_count": 8,
   "metadata": {
    "collapsed": true
   },
   "outputs": [],
   "source": [
    "# Answer\n",
    "\n",
    "def logistic_error_and_gradient(a):\n",
    "    return sigma(a), sigma(a) * (1 - sigma(a))\n",
    "\n",
    "def tangent_error_and_gradient(a):\n",
    "    return tanh(a), "
   ]
  },
  {
   "cell_type": "code",
   "execution_count": 9,
   "metadata": {
    "collapsed": false
   },
   "outputs": [],
   "source": [
    "class NN:\n",
    "    '''Implementation of an artificial neural network'''\n",
    "    def __init__(self, nIn, nHidden, nOut, actFn):\n",
    "        '''Initialise the network with random weights and biases. Parameters are:\n",
    "        nIn: Number of input nodes (dimensionality of the data)\n",
    "        nHidden: LIST of numbers of hidden nodes, one integer per layer. Empty list for no hidden layers\n",
    "        nOut: Number of output nodes; dimensionality of the targets\n",
    "        actFn: Tuple of activation functions; one function per computational layer (hidden or output)'''\n",
    "        \n",
    "        assert(len(nHidden) == len(actFn)-1)    # Check that the parameters are consistent\n",
    "        \n",
    "        self.numNodes = [nIn]                   # Create a list of numbers of nodes per layer\n",
    "        if nHidden:\n",
    "            self.numNodes.extend(nHidden)\n",
    "        self.numNodes.append(nOut)\n",
    "\n",
    "        # Initialise weights and biases\n",
    "        self.w = [ 1e-0 * np.random.randn(self.numNodes[i],self.numNodes[i-1]) for i in range(1,len(self.numNodes)) ]\n",
    "        # print \"Weights\", self.w\n",
    "        self.biases = [ 1e-0 * np.random.randn(self.numNodes[i]) for i in range(1,len(self.numNodes))]\n",
    "        # print \"Biases:\", self.biases\n",
    "        self.actfn = actFn\n",
    "        \n",
    "    def forward(self,x):\n",
    "        ''' Compute the activations of the nodes of each layer.\n",
    "            For efficiency, use \"EGF\" functions and store the gradient of the activation function as well. In\n",
    "            other words each entry of self.fw is a tuple containing (z_i, h'(a_i))\n",
    "        '''\n",
    "        self.fw = [ self.actfn[0](self.w[0].dot(x) + self.biases[0]) ]  # First layer takes data as input\n",
    "        for h,w,b in zip(self.actfn[1:],self.w[1:],self.biases[1:]):    # following layers take the output of  \n",
    "            self.fw.append(h(w.dot(self.fw[-1][0]) + b))                #    the previous layer\n",
    "        return self.fw[-1][0]\n",
    "    \n",
    "    def back(self, errorgrad):\n",
    "        '''Implement backpropagation of the errors'''\n",
    "        self.delta = [ self.fw[-1][1] * errorgrad ]             # Start with the gradient of the error function\n",
    "        \n",
    "        for layer in range(len(self.w)-1,0,-1):\n",
    "            hprime = self.fw[layer-1][1]                        # h'(a_j)\n",
    "            delta = self.delta[0]                               # list gets extended at start, first elt: delta_k\n",
    "            w = self.w[layer]                                   # w_kj\n",
    "\n",
    "            self.delta.insert(0,hprime * (self.delta[0].dot(w))) # Use dot product to sum over all FOLLOWING weights        \n",
    "\n",
    "    def gradients(self, x, t, eta=1e-3):\n",
    "        '''Compute the gradients of the error of a single datapoint, with respect to\n",
    "        all weights and all biases'''\n",
    "        y = self.forward(x)                        # Forward propagation and computation of h'\n",
    "        error = y-t\n",
    "        self.back(error)                           # Backward propagation\n",
    "                              \n",
    "        gradw = []\n",
    "        gradb = []\n",
    "        gradw.append(np.outer(self.delta[0],x))    # derivative wrt w_ji = delta_j z_i, where z_i == x_i for input nodes\n",
    "        gradb.append(self.delta[0])                #    and z_i == 1 for bias nodes\n",
    "        \n",
    "        for i in range(1,len(self.w)):\n",
    "            gradw.append(np.outer(self.delta[i],self.fw[i-1][0])) # for folloing layers, use output of previous layer\n",
    "            gradb.append(self.delta[i])\n",
    "        return gradw,gradb,.5*error*error          # Return gradient wrt w and bias, and the error\n",
    "\n",
    "    def batchGradients(self, data,targets):\n",
    "        '''Compute the gradients of all weights and biases, for the complete dataset'''                      \n",
    "        gradw,gradb,error = self.gradients(data[0,:],targets[0])\n",
    "        for x,t in zip(data[1:,:],targets[1:]):\n",
    "            tw,tb,e = self.gradients(x,t)\n",
    "            error += e\n",
    "            for i in range(len(gradw)):\n",
    "                gradw[i] += tw[i]\n",
    "                gradb[i] += tb[i]\n",
    "        return gradw,gradb,error\n",
    "    \n",
    "    def batchStep(self,data,targets,eta=1e-3):\n",
    "        '''Make one step of batch gradient descent'''                      \n",
    "        gw,gb,e = self.batchGradients(data,targets)\n",
    "        for i in range(len(gw)):\n",
    "            self.w[i] -= eta*gw[i]\n",
    "            self.biases[i] -= eta*gb[i]\n",
    "        return e\n",
    "       \n",
    "    def train(self,data,targets,eta=1e-4):\n",
    "        '''Train the network using batch GD'''\n",
    "        es = np.zeros(100000)\n",
    "        for i in range(len(es)):\n",
    "            es[i] = self.batchStep(data,targets,eta)\n",
    "            if i>100 and es[i-1]< es[i]+1e-5:\n",
    "                return es[:i+1]\n",
    "        return es"
   ]
  },
  {
   "cell_type": "markdown",
   "metadata": {},
   "source": [
    "**Question [10 credits]** Using the above code, create a neural network with no hidden layer and linear output activation function, and train it on the provided data. Plot the evolution of the training error, as well as the function that the neural network implements (in two separate plots). "
   ]
  },
  {
   "cell_type": "code",
   "execution_count": 10,
   "metadata": {
    "collapsed": false
   },
   "outputs": [],
   "source": [
    "# Answer"
   ]
  },
  {
   "cell_type": "markdown",
   "metadata": {},
   "source": [
    "** Question [30 credits] ** Use the provided test data to compare this to other configurations of your choice (more hidden layers, different activation functions, ...). Find a network that performs well on the given data. Perform multiple training runs with random initialisations, plot the final validation error for each run in function of the number of nodes, and keep the best. Plot the train and test data, as well as the function implemented by your final network"
   ]
  },
  {
   "cell_type": "code",
   "execution_count": 11,
   "metadata": {
    "collapsed": true
   },
   "outputs": [],
   "source": [
    "# Answer"
   ]
  }
 ],
 "metadata": {
  "kernelspec": {
   "display_name": "Python 2",
   "language": "python",
   "name": "python2"
  },
  "language_info": {
   "codemirror_mode": {
    "name": "ipython",
    "version": 2
   },
   "file_extension": ".py",
   "mimetype": "text/x-python",
   "name": "python",
   "nbconvert_exporter": "python",
   "pygments_lexer": "ipython2",
   "version": "2.7.10"
  }
 },
 "nbformat": 4,
 "nbformat_minor": 0
}
