{
 "cells": [
  {
   "cell_type": "markdown",
   "metadata": {},
   "source": [
    "# Names and group number\n",
    "\n",
    "ML_HMI_01: Jan Ubbo van Baardewijk & Thomas Brus"
   ]
  },
  {
   "cell_type": "markdown",
   "metadata": {},
   "source": [
    "# Linear Discriminants: logistic regression\n",
    "\n",
    "$\\newcommand{\\x}{\\mathbf{x}}\\newcommand{\\w}{\\mathbf{w}}\\newcommand{\\c}{\\mathcal{C}}$\n",
    "\n",
    "As we have seen in the lecture, the logistic regression models the probability of a class label $\\c$ given a datapoint $p(\\c|\\x)$ as:\n",
    "$$p(\\c|\\x) = \\sigma(\\w^\\top\\x) = \\frac{1}{1+e^{-\\w^\\top\\x}}$$\n",
    "\n",
    "In this lab, we shall implement this model.\n",
    "\n",
    "## Logistic function\n",
    "\n",
    "To get started, let us plot the logistic function $\\sigma(a)$ in the range $[-5\\dots 5]$ in blue, and its derivative $\\frac{\\partial}{\\partial a} \\sigma(a)$ in green."
   ]
  },
  {
   "cell_type": "code",
   "execution_count": 1,
   "metadata": {
    "collapsed": false
   },
   "outputs": [],
   "source": [
    "%matplotlib inline\n",
    "import numpy as np\n",
    "import matplotlib.pyplot as plt"
   ]
  },
  {
   "cell_type": "code",
   "execution_count": 2,
   "metadata": {
    "collapsed": false
   },
   "outputs": [
    {
     "data": {
      "text/plain": [
       "[<matplotlib.lines.Line2D at 0x1097558d0>]"
      ]
     },
     "execution_count": 2,
     "metadata": {},
     "output_type": "execute_result"
    },
    {
     "data": {
      "image/png": "[encoded data removed]",
      "text/plain": [
       "<matplotlib.figure.Figure at 0x109755910>"
      ]
     },
     "metadata": {},
     "output_type": "display_data"
    }
   ],
   "source": [
    "x = np.arange(-10, 10, .1)\n",
    "\n",
    "def sigma(a):\n",
    "    return 1.0 / (1.0 + np.exp(-a))\n",
    "\n",
    "plt.plot(x, sigma(x))\n",
    "plt.plot(x, sigma(x) * (1 - sigma(x)), 'green')"
   ]
  },
  {
   "cell_type": "markdown",
   "metadata": {},
   "source": [
    "## Training data\n",
    "\n",
    "Next, load the data in the provided data file \"*data-2class.npz*\", and plot it. Then also plot the discriminant of a logistic regression model with parameters $\\w = [ 0,1,1]$.\n"
   ]
  },
  {
   "cell_type": "markdown",
   "metadata": {},
   "source": [
    "$\\frac{1}{1+e^{\\w^\\top\\x}} = 1/2$, so $\\exp \\w^\\top \\x = 1$ or $\\w^\\top\\x = 0$. In other words, we can plot \n",
    "$w_0+w_1x_1 + w_2x_2 = 0$, or $x_1 = -\\frac{w_2x_2+w_0}{w_1}$"
   ]
  },
  {
   "cell_type": "code",
   "execution_count": 3,
   "metadata": {
    "collapsed": true
   },
   "outputs": [],
   "source": [
    "def load_data(filename):\n",
    "    data = np.load(filename)    \n",
    "    return (data['d'], data['l'])"
   ]
  },
  {
   "cell_type": "code",
   "execution_count": 4,
   "metadata": {
    "collapsed": true
   },
   "outputs": [],
   "source": [
    "def prepend_ones(inputs):\n",
    "    # Extend the inputs by prepending a 1 for every row\n",
    "    vectors = np.ones((inputs.shape[0], inputs.shape[1] + 1))\n",
    "    vectors[:, 1:] = inputs\n",
    "    return vectors"
   ]
  },
  {
   "cell_type": "code",
   "execution_count": 5,
   "metadata": {
    "collapsed": false
   },
   "outputs": [
    {
     "ename": "NameError",
     "evalue": "global name 'l' is not defined",
     "output_type": "error",
     "traceback": [
      "\u001b[0;31m---------------------------------------------------------------------------\u001b[0m",
      "\u001b[0;31mNameError\u001b[0m                                 Traceback (most recent call last)",
      "\u001b[0;32m<ipython-input-5-f0d690bd7ef0>\u001b[0m in \u001b[0;36m<module>\u001b[0;34m()\u001b[0m\n\u001b[1;32m     14\u001b[0m         \u001b[0mplt\u001b[0m\u001b[0;34m.\u001b[0m\u001b[0mplot\u001b[0m\u001b[0;34m(\u001b[0m\u001b[0mxr\u001b[0m\u001b[0;34m[\u001b[0m\u001b[0mvalid\u001b[0m\u001b[0;34m]\u001b[0m\u001b[0;34m,\u001b[0m \u001b[0myr\u001b[0m\u001b[0;34m[\u001b[0m\u001b[0mvalid\u001b[0m\u001b[0;34m]\u001b[0m\u001b[0;34m,\u001b[0m \u001b[0mcolor\u001b[0m\u001b[0;34m=\u001b[0m\u001b[0mcolor\u001b[0m\u001b[0;34m)\u001b[0m\u001b[0;34m\u001b[0m\u001b[0m\n\u001b[1;32m     15\u001b[0m \u001b[0;34m\u001b[0m\u001b[0m\n\u001b[0;32m---> 16\u001b[0;31m \u001b[0mplot_scatter\u001b[0m\u001b[0;34m(\u001b[0m\u001b[0mload_data\u001b[0m\u001b[0;34m(\u001b[0m\u001b[0;34m\"data-2class.npz\"\u001b[0m\u001b[0;34m)\u001b[0m\u001b[0;34m[\u001b[0m\u001b[0;36m0\u001b[0m\u001b[0;34m]\u001b[0m\u001b[0;34m)\u001b[0m\u001b[0;34m\u001b[0m\u001b[0m\n\u001b[0m\u001b[1;32m     17\u001b[0m \u001b[0mplot_disc\u001b[0m\u001b[0;34m(\u001b[0m\u001b[0;34m[\u001b[0m\u001b[0;36m0\u001b[0m\u001b[0;34m,\u001b[0m \u001b[0;36m1.\u001b[0m\u001b[0;34m,\u001b[0m \u001b[0;36m1.\u001b[0m\u001b[0;34m]\u001b[0m\u001b[0;34m)\u001b[0m\u001b[0;34m\u001b[0m\u001b[0m\n",
      "\u001b[0;32m<ipython-input-5-f0d690bd7ef0>\u001b[0m in \u001b[0;36mplot_scatter\u001b[0;34m(inputs, colors)\u001b[0m\n\u001b[1;32m      1\u001b[0m \u001b[0;32mdef\u001b[0m \u001b[0mplot_scatter\u001b[0m\u001b[0;34m(\u001b[0m\u001b[0minputs\u001b[0m\u001b[0;34m,\u001b[0m \u001b[0mcolors\u001b[0m\u001b[0;34m=\u001b[0m\u001b[0;34m[\u001b[0m\u001b[0;34m'r'\u001b[0m\u001b[0;34m,\u001b[0m \u001b[0;34m'b'\u001b[0m\u001b[0;34m]\u001b[0m\u001b[0;34m)\u001b[0m\u001b[0;34m:\u001b[0m\u001b[0;34m\u001b[0m\u001b[0m\n\u001b[0;32m----> 2\u001b[0;31m     \u001b[0mplt\u001b[0m\u001b[0;34m.\u001b[0m\u001b[0mscatter\u001b[0m\u001b[0;34m(\u001b[0m\u001b[0minputs\u001b[0m\u001b[0;34m[\u001b[0m\u001b[0;34m:\u001b[0m\u001b[0;34m,\u001b[0m \u001b[0;36m0\u001b[0m\u001b[0;34m]\u001b[0m\u001b[0;34m,\u001b[0m \u001b[0minputs\u001b[0m\u001b[0;34m[\u001b[0m\u001b[0;34m:\u001b[0m\u001b[0;34m,\u001b[0m \u001b[0;36m1\u001b[0m\u001b[0;34m]\u001b[0m\u001b[0;34m,\u001b[0m \u001b[0;36m20\u001b[0m\u001b[0;34m,\u001b[0m \u001b[0;34m[\u001b[0m\u001b[0mcolors\u001b[0m\u001b[0;34m[\u001b[0m\u001b[0mint\u001b[0m\u001b[0;34m(\u001b[0m\u001b[0mx\u001b[0m\u001b[0;34m)\u001b[0m\u001b[0;34m]\u001b[0m \u001b[0;32mfor\u001b[0m \u001b[0mx\u001b[0m \u001b[0;32min\u001b[0m \u001b[0mnp\u001b[0m\u001b[0;34m.\u001b[0m\u001b[0mnditer\u001b[0m\u001b[0;34m(\u001b[0m\u001b[0ml\u001b[0m\u001b[0;34m)\u001b[0m\u001b[0;34m]\u001b[0m\u001b[0;34m)\u001b[0m\u001b[0;34m\u001b[0m\u001b[0m\n\u001b[0m\u001b[1;32m      3\u001b[0m \u001b[0;34m\u001b[0m\u001b[0m\n\u001b[1;32m      4\u001b[0m \u001b[0;32mdef\u001b[0m \u001b[0mplot_disc\u001b[0m\u001b[0;34m(\u001b[0m\u001b[0mweights\u001b[0m\u001b[0;34m,\u001b[0m \u001b[0mcolor\u001b[0m\u001b[0;34m=\u001b[0m\u001b[0;34m\"black\"\u001b[0m\u001b[0;34m)\u001b[0m\u001b[0;34m:\u001b[0m\u001b[0;34m\u001b[0m\u001b[0m\n\u001b[1;32m      5\u001b[0m     \u001b[0;32mif\u001b[0m \u001b[0mabs\u001b[0m\u001b[0;34m(\u001b[0m\u001b[0mweights\u001b[0m\u001b[0;34m[\u001b[0m\u001b[0;36m1\u001b[0m\u001b[0;34m]\u001b[0m\u001b[0;34m)\u001b[0m \u001b[0;34m>\u001b[0m \u001b[0mabs\u001b[0m\u001b[0;34m(\u001b[0m\u001b[0mweights\u001b[0m\u001b[0;34m[\u001b[0m\u001b[0;36m2\u001b[0m\u001b[0;34m]\u001b[0m\u001b[0;34m)\u001b[0m\u001b[0;34m:\u001b[0m\u001b[0;34m\u001b[0m\u001b[0m\n",
      "\u001b[0;31mNameError\u001b[0m: global name 'l' is not defined"
     ]
    }
   ],
   "source": [
    "def plot_scatter(inputs, colors=['r', 'b']):\n",
    "    plt.scatter(inputs[:, 0], inputs[:, 1], 20, [colors[int(x)] for x in np.nditer(l)])\n",
    "\n",
    "def plot_disc(weights, color=\"black\"):\n",
    "    if abs(weights[1]) > abs(weights[2]):\n",
    "        yr = np.arange(-6, 10, 1)\n",
    "        xr = -(weights[2] * yr + weights[0]) / w[1]\n",
    "        valid  = (xr > -4) & (xr < 10)\n",
    "        plt.plot(xr[valid], yr[valid], color=color)\n",
    "    else:\n",
    "        xr = np.arange(-4, 10, 1)\n",
    "        yr = -(weights[1] * xr + weights[0]) / weights[2]\n",
    "        valid  = (yr > -6) & (yr <10)\n",
    "        plt.plot(xr[valid], yr[valid], color=color)\n",
    "\n",
    "plot_scatter(load_data(\"data-2class.npz\")[0])\n",
    "plot_disc([0, 1., 1.])"
   ]
  },
  {
   "cell_type": "markdown",
   "metadata": {},
   "source": [
    "# # Probability of the given labels for all datapoints\n",
    "\n",
    "We will now train our logistic regression model on a training dataset. This dataset contains a number of datapoints $\\x_1,\\dots,\\x_N$belonging to two classes and, for each datapoint $\\x_n$, the corresponding class label $l_n$. The training is done by *maximum likelihood*, that is, we maximise the probability of the data given the model. \n",
    "\n",
    "## Model\n",
    "\n",
    "Before we start coding, let's have a closer look at the model. Our labels are $0$ or $1$, representing the two classes. If a datapoint $\\x_n$ belongs to class $\\c_n=1$, the probability $p(\\c_n=1|\\x_n) = \\sigma(\\w^\\top\\x_n)$ and the probability $p(\\c_n=0|\\x_n) = 1-\\sigma(\\w^\\top\\x)$. We now want the probability of the labels given the data, for the complete training set: $p(\\c_1,\\dots,\\c_N|\\x_1,\\dots,\\x_N)$. Remember that the probability of the union of two independent events is $p(a,b)=p(a)\\,p(b)$. Using the fact that the labels are $0$ and $1$ (and that $x^0=1$ and $x^1=x$, we can then write this as \n",
    "$$p(\\c_1\\dots\\c_n|\\x_1\\dots\\x_n,\\w) = \\prod_{n=1}^N \\sigma(\\w^\\top\\x_n)^{\\c_n}\\,(1-\\sigma(\\w^\\top\\x_n))^{1-\\c_n}$$\n",
    "\n",
    "**Question [5 Marks]:** For the provided dataset, compute this probability when the model weights are $\\w = [ 0,-1,-1]$\n",
    "Think about how you could find the maximum of this function. What does the gradient of this probability look like?"
   ]
  },
  {
   "cell_type": "code",
   "execution_count": null,
   "metadata": {
    "collapsed": false
   },
   "outputs": [],
   "source": [
    "probability = 1.0\n",
    "weights = np.matrix([[0, -1, -1]])\n",
    "\n",
    "inputs, labels = load_data('data-2class.npz')\n",
    "vectors = prepend_ones(inputs)\n",
    "\n",
    "for x, c in zip(vectors, labels):\n",
    "    s = sigma(sum([a * b for a,b in zip(weights.flat, x)]))\n",
    "    probability *= s**c[0] * (1 - s)**(1 - c[0])\n",
    "    \n",
    "print \"Probability is (pretty much zero): \", probability\n",
    "\n",
    "print \"The maximum of the function is where the gradient is zero.\"\n",
    "print \"The gradient looks like the one plotted in the graph above,\"\n",
    "print \"but depending on the class it may be inverted vertically.\""
   ]
  },
  {
   "cell_type": "markdown",
   "metadata": {},
   "source": [
    "Dealing with the joint probability is complicated, as 1) its value can become very small, easily too small for a computer to represent it accurately, and 2) taking the gradient of this joint probability with respect to $\\w$ makes the contribution of every datapoint to the gradient depend on every other datapoint's value.\n",
    "\n",
    "# Gradient\n",
    "\n",
    "So instead, we will define an error function which is the natural logarithm of the likelihood.\n",
    "\n",
    "**Question [5 marks]:** Write down the equation for $E(\\w) \\triangleq -\\log p(\\c_1,\\dots,\\c_N|\\x_1,\\dots,\\x_N)$ in analytical form.\n",
    "\n",
    "$$E(\\w) \\triangleq - \\sum_{n=1}^N \\{ C_n \\log(\\sigma(\\w^\\top\\x_n)) + (1 - C_n) \\log(1 - \\sigma(\\w^\\top\\x_n)) \\}$$\n",
    "\n",
    "**Question [5 marks]:** Compute the actual value of the error function for the given dataset and weight $w=[0,-1,-1]$.\n",
    "\n",
    "$$5056.86191856$$\n",
    "\n",
    "\n",
    "Notice that this function does not contain products of probabilities anymore, thus making the derivative of the joint probability with respect of each of the weights a sum of derivatives of the probabilities of single datapoints. The logarithm is what's called a \"monotonically increasing function\", which means that if $x_1 > x_2$, $f(x_1) > f(x_2)$. Because of that, the value of $\\w$ for which $p(\\c_1\\dots\\c_n|\\x_1\\dots\\x_n,\\w)$ is maximal is also the value of $\\w$ for which $\\log p(\\c_1\\dots\\c_n|\\x_1\\dots\\x_n,\\w)$ is maximal and thus $-\\log p(\\c_1\\dots\\c_n|\\x_1\\dots\\x_n,\\w)$ is minimal.\n",
    "\n",
    "The gradient of $\\nabla_\\w E(\\w)$ is given by $\\nabla_\\w E(\\w) = \\sum_{n=1}^N \\left(\\sigma( \\w^\\top\\x_n)-c_n\\right)\\x_n$\n",
    "\n",
    "**Question [30 marks]:** Implement gradient descent, updating the weights as $\\w^{\\mathrm{new}} = \\w^{\\mathrm{old}} - \\eta \\nabla_\\w E(\\w)$. The value of $\\eta$ will affect how fast the algorithm converges and is really up to you. In this case, I suggest you use $\\eta=10^{-3}$, which is quite small but allows you to see what's happening. This is a form of batch gradient descent."
   ]
  },
  {
   "cell_type": "code",
   "execution_count": null,
   "metadata": {
    "collapsed": false
   },
   "outputs": [],
   "source": [
    "# Question [5 marks]\n",
    "from math import log\n",
    "\n",
    "weights = np.matrix([[0, -1, -1]])\n",
    "\n",
    "inputs, labels = load_data('data-2class.npz')\n",
    "vectors = prepend_ones(inputs)\n",
    "\n",
    "logError = 0\n",
    "\n",
    "for x, c in zip(vectors, labels):\n",
    "    s = sigma(sum([a * b for a,b in zip(weights.flat, x)]))\n",
    "    logError += c[0] * log(s) + (1 - c[0]) * log(1 - s)\n",
    "\n",
    "print -logError"
   ]
  },
  {
   "cell_type": "code",
   "execution_count": null,
   "metadata": {
    "collapsed": false
   },
   "outputs": [],
   "source": [
    "# Question [30 marks]\n",
    "def calculate_error_gradients(inputs, labels, weights=weights):\n",
    "    vectors = prepend_ones(inputs)\n",
    "    error_gradients = [0.0] * (vectors.shape[1])\n",
    "\n",
    "    for x, c in zip(vectors, labels):\n",
    "        s = sigma(sum([a * b for a,b in zip(weights, x)]))\n",
    "        error_gradients += (s - c[0]) * x\n",
    "    \n",
    "    return error_gradients\n",
    "\n",
    "def update_weights(weights, error_gradients=[], learning_rate=0.001):\n",
    "    for i, weight in enumerate(weights):\n",
    "        weights[i] = weight - learning_rate * error_gradients[i]\n",
    "\n",
    "def gradient_descent(inputs, labels, learning_rate=0.001, threshold=1.0, max_iterations=500):\n",
    "    weights = [0.0] * (inputs.shape[1] + 1)\n",
    "    \n",
    "    for _ in range(max_iterations):\n",
    "        error_gradients = calculate_error_gradients(inputs, labels, weights=weights)        \n",
    "        update_weights(weights, error_gradients=error_gradients, learning_rate=learning_rate)\n",
    "        # Break early if error threshold is reached\n",
    "        if (np.mean(map(abs, error_gradients)) < threshold): break            \n",
    "    \n",
    "    return weights\n",
    "\n",
    "inputs, labels = load_data('data-2class.npz')\n",
    "weights = gradient_descent(inputs, labels)\n",
    "\n",
    "plot_scatter(inputs)\n",
    "plot_disc(weights)\n",
    "\n",
    "print weights"
   ]
  },
  {
   "cell_type": "markdown",
   "metadata": {},
   "source": [
    "# Visualising the classifier\n",
    "\n",
    "It is important to realise that the classifier must be able to compute the probability of a label for any new datapoint, independently of whether it was in the training data or not. We can, therefore, plot what the probability of class $\\c_0$ is at any location in the input space. \n",
    "\n",
    "**Question [10 marks]:** Create a function that plots the data in a 3D graph in the plane $z=1/2$ and superimpose a wireframe of the probability of $\\c_0$. Then adapt your code in the previous question to call this function."
   ]
  },
  {
   "cell_type": "code",
   "execution_count": null,
   "metadata": {
    "collapsed": false
   },
   "outputs": [],
   "source": [
    "import matplotlib.pyplot as plt\n",
    "from mpl_toolkits.mplot3d import Axes3D\n",
    "\n",
    "import pylab\n",
    "pylab.rcParams['figure.figsize'] = (10.0, 8.0)\n",
    "\n",
    "fig = plt.figure()\n",
    "ax = fig.add_subplot(111, projection='3d')\n",
    "\n",
    "data = np.load(\"data-2class.npz\")\n",
    "\n",
    "d = data['d']\n",
    "l = data['l'] # .sum(-1)\n",
    "\n",
    "xs = d[:, 0]\n",
    "ys = d[:, 1]\n",
    "\n",
    "# 3d scatter plot\n",
    "colors = [['r', 'b'][int(x)] for x in np.nditer(l)] \n",
    "ax.scatter(xs, ys, zs=0.5, zdir='z', s=20, c=colors, depthshade=False)\n",
    "\n",
    "# 3d wireframe plot\n",
    "x1 = np.arange(-10.0, 10.0, 1.0)\n",
    "y1 = np.arange(-10.0, 10.0, 1.0)\n",
    "\n",
    "weights = [-7.3483324916765183, 0.84189908664921853, 1.7161143830198393]\n",
    "\n",
    "X1, Y1 = np.meshgrid(x1, y1)\n",
    "\n",
    "def z(x, y):\n",
    "    return 1 - sigma(sum([a * b for a, b in zip(weights, [1, x, y])]))\n",
    "\n",
    "Z1 = z(X1, Y1)\n",
    "\n",
    "ax.plot_wireframe(X1, Y1, Z1, colors='green')\n",
    "\n",
    "# Why is this not working ...? Plot isn't quite right"
   ]
  },
  {
   "cell_type": "markdown",
   "metadata": {},
   "source": [
    "# Stochastic gradient descent\n",
    "\n",
    "**Question [20 marks]:** As a last question, implement stochastic gradient descent and compare it to batch gradient descent."
   ]
  },
  {
   "cell_type": "code",
   "execution_count": null,
   "metadata": {
    "collapsed": false
   },
   "outputs": [],
   "source": [
    "# Question [30 marks]\n",
    "def calculate_error_gradients(input, label, weights=weights):\n",
    "    s = sigma(weights[0] + sum([a * b for a,b in zip(weights[1:], input)]))\n",
    "    return (s - label[0]) * input\n",
    "\n",
    "def update_weights(weights, error_gradients=[], learning_rate=0.001):\n",
    "    for i, weight in enumerate(weights):\n",
    "        weights[i] = weight - learning_rate * error_gradients[i]\n",
    "\n",
    "def gradient_descent(inputs, labels, learning_rate=0.001, threshold=1.0, max_iterations=5):\n",
    "    weights = [0.0] * (inputs.shape[1] + 1)\n",
    "    \n",
    "    for _ in range(max_iterations):\n",
    "        for x, c in zip(inputs, labels):\n",
    "            error_gradients = calculate_error_gradients(x, c, weights=weights)\n",
    "            update_weights(weights, error_gradients=error_gradients, learning_rate=learning_rate)\n",
    "            # Break early if error threshold is reached\n",
    "            if (np.mean(map(abs, error_gradients)) < threshold): break            \n",
    "    \n",
    "    return weights\n",
    "\n",
    "inputs, labels = load_data('data-2class.npz')\n",
    "weights = gradient_descent(inputs, labels)\n",
    "\n",
    "print weights\n",
    "\n",
    "# plot_scatter(inputs)\n",
    "# plot_disc(weights)\n",
    "\n",
    "# print weights\n",
    "\n",
    "# ...? Unable to figure out how to get this python magic working"
   ]
  },
  {
   "cell_type": "code",
   "execution_count": null,
   "metadata": {
    "collapsed": true
   },
   "outputs": [],
   "source": []
  }
 ],
 "metadata": {
  "kernelspec": {
   "display_name": "Python 2",
   "language": "python",
   "name": "python2"
  },
  "language_info": {
   "codemirror_mode": {
    "name": "ipython",
    "version": 2
   },
   "file_extension": ".py",
   "mimetype": "text/x-python",
   "name": "python",
   "nbconvert_exporter": "python",
   "pygments_lexer": "ipython2",
   "version": "2.7.10"
  }
 },
 "nbformat": 4,
 "nbformat_minor": 0
}
